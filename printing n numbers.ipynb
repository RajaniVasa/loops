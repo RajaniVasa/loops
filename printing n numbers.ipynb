{
 "cells": [
  {
   "cell_type": "code",
   "execution_count": null,
   "id": "b0dcdb53-c482-4a31-8a13-d8120ee6b398",
   "metadata": {},
   "outputs": [],
   "source": [
    "num=int(input('enter a number'))\n",
    "while num>=1:\n",
    "    print(num,end=' ')\n",
    "    num-=1"
   ]
  }
 ],
 "metadata": {
  "kernelspec": {
   "display_name": "Python 3 (ipykernel)",
   "language": "python",
   "name": "python3"
  },
  "language_info": {
   "codemirror_mode": {
    "name": "ipython",
    "version": 3
   },
   "file_extension": ".py",
   "mimetype": "text/x-python",
   "name": "python",
   "nbconvert_exporter": "python",
   "pygments_lexer": "ipython3",
   "version": "3.12.7"
  }
 },
 "nbformat": 4,
 "nbformat_minor": 5
}
